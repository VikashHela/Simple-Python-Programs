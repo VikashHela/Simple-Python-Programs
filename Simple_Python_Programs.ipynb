{
  "nbformat": 4,
  "nbformat_minor": 0,
  "metadata": {
    "colab": {
      "name": "Simple Python Programs.ipynb",
      "provenance": [],
      "toc_visible": true,
      "authorship_tag": "ABX9TyNqhzZsau0+vrsX7wAev0X6",
      "include_colab_link": true
    },
    "kernelspec": {
      "name": "python3",
      "display_name": "Python 3"
    }
  },
  "cells": [
    {
      "cell_type": "markdown",
      "metadata": {
        "id": "view-in-github",
        "colab_type": "text"
      },
      "source": [
        "<a href=\"https://colab.research.google.com/github/VikashHela/Simple-Python-Programs/blob/master/Simple_Python_Programs.ipynb\" target=\"_parent\"><img src=\"https://colab.research.google.com/assets/colab-badge.svg\" alt=\"Open In Colab\"/></a>"
      ]
    },
    {
      "cell_type": "code",
      "metadata": {
        "id": "PyubLpn5_RUD",
        "colab_type": "code",
        "colab": {
          "base_uri": "https://localhost:8080/",
          "height": 102
        },
        "outputId": "521be998-e2d9-4f9e-fe6c-4e7396bb4efe"
      },
      "source": [
        "# Program to calculate the avergae of numbers in a given list\n",
        "list1 =  []\n",
        "n = int(input(\"Enter the number of elements you want in a list: \"))\n",
        "for i in range(n):\n",
        "  list1.append(int(input(\"enter the elements: \")))\n",
        "average = sum(list1)/n\n",
        "print(average)"
      ],
      "execution_count": 4,
      "outputs": [
        {
          "output_type": "stream",
          "text": [
            "Enter the number of elements you want in a list: 3\n",
            "enter the elements: 10\n",
            "enter the elements: 20\n",
            "enter the elements: 30\n",
            "20.0\n"
          ],
          "name": "stdout"
        }
      ]
    },
    {
      "cell_type": "code",
      "metadata": {
        "id": "a1fVrSMnBR4P",
        "colab_type": "code",
        "colab": {
          "base_uri": "https://localhost:8080/",
          "height": 85
        },
        "outputId": "eb2c3ba7-9731-4949-eb74-76c20bce6d77"
      },
      "source": [
        "# Program to exchange the values of two numbers without using a temporary variable.\n",
        "a = int(input(\"Enter the first variable: \"))\n",
        "b = int(input(\"Enter the 2nd variable: \"))\n",
        "print(f\"NUmbers before swapping are {a} and {b} \")\n",
        "\n",
        "a = a+b\n",
        "b = a-b\n",
        "a = a-b\n",
        "\n",
        "print(f\"NUmbers after swapping are {a} and {b} \")"
      ],
      "execution_count": 5,
      "outputs": [
        {
          "output_type": "stream",
          "text": [
            "Enter the first variable: 5\n",
            "Enter the 2nd variable: 6\n",
            "NUmbers before swapping are 5 and 6 \n",
            "NUmbers after swapping are 6 and 5 \n"
          ],
          "name": "stdout"
        }
      ]
    },
    {
      "cell_type": "code",
      "metadata": {
        "id": "ucPsok_MClsP",
        "colab_type": "code",
        "colab": {
          "base_uri": "https://localhost:8080/",
          "height": 51
        },
        "outputId": "c339ab58-dd72-4f0c-b63c-6fc325375b39"
      },
      "source": [
        "# Program to Read a number n and Compute n+nn+nnn\n",
        "n = int(input(\"enter the value of n: \"))\n",
        "temp=str(n)\n",
        "t1 = temp+temp\n",
        "t2= t1+temp\n",
        "output = n + int(t1) + int(t2)\n",
        "print(\" The value is: \",output)"
      ],
      "execution_count": 6,
      "outputs": [
        {
          "output_type": "stream",
          "text": [
            "enter the value of n: 5\n",
            " The value is:  615\n"
          ],
          "name": "stdout"
        }
      ]
    },
    {
      "cell_type": "code",
      "metadata": {
        "id": "FPb6LWd0DrLy",
        "colab_type": "code",
        "colab": {
          "base_uri": "https://localhost:8080/",
          "height": 51
        },
        "outputId": "eedafcde-9ab4-46dc-9d0a-399d3410f1db"
      },
      "source": [
        "# Program to reverse a given number.\n",
        "n =int(input(\"Enter any number: \"))\n",
        "s = 0\n",
        "while n:\n",
        "  rem = n%10\n",
        "  s = rem + s*10\n",
        "  n = n//10\n",
        "print(\"Reverse of the number: \", s)"
      ],
      "execution_count": 8,
      "outputs": [
        {
          "output_type": "stream",
          "text": [
            "Enter any number: 314\n",
            "Reverse of the number:  413\n"
          ],
          "name": "stdout"
        }
      ]
    },
    {
      "cell_type": "code",
      "metadata": {
        "id": "WWaj628aE2Su",
        "colab_type": "code",
        "colab": {
          "base_uri": "https://localhost:8080/",
          "height": 51
        },
        "outputId": "f49c7f74-504f-4500-af20-1d258e923460"
      },
      "source": [
        "# Program to check whether a number is positive or negative.\n",
        "n = int(input(\"enter the value: \"))\n",
        "if n>0:\n",
        "  print(\"Number is positive\")\n",
        "else:\n",
        "  print(\"Number is Negative\")\n"
      ],
      "execution_count": 9,
      "outputs": [
        {
          "output_type": "stream",
          "text": [
            "enter the value: 5\n",
            "Number is positive\n"
          ],
          "name": "stdout"
        }
      ]
    },
    {
      "cell_type": "code",
      "metadata": {
        "id": "b-XbIF0lHpzj",
        "colab_type": "code",
        "colab": {
          "base_uri": "https://localhost:8080/",
          "height": 119
        },
        "outputId": "45e073ee-973c-4551-e316-4ff8cb86e860"
      },
      "source": [
        "# Program to take in the marks of 5 subjects and display the grade.\n",
        "sub1=int(input(\"Enter marks of the first subject: \"))\n",
        "sub2=int(input(\"Enter marks of the second subject: \"))\n",
        "sub3=int(input(\"Enter marks of the third subject: \"))\n",
        "sub4=int(input(\"Enter marks of the fourth subject: \"))\n",
        "sub5=int(input(\"Enter marks of the fifth subject: \"))\n",
        "avg=(sub1+sub2+sub3+sub4+sub4)/5\n",
        "if(avg>=90):\n",
        "    print(\"Grade: A\")\n",
        "elif(avg>=80 and avg<90):\n",
        "    print(\"Grade: B\")\n",
        "elif(avg>=70 and avg<80):\n",
        "    print(\"Grade: C\")\n",
        "elif(avg>=60 and avg<70):\n",
        "    print(\"Grade: D\")\n",
        "else:\n",
        "    print(\"Grade: F\")"
      ],
      "execution_count": 13,
      "outputs": [
        {
          "output_type": "stream",
          "text": [
            "Enter marks of the first subject: 70\n",
            "Enter marks of the second subject: 80\n",
            "Enter marks of the third subject: 90\n",
            "Enter marks of the fourth subject: 60\n",
            "Enter marks of the fifth subject: 50\n",
            "Grade: C\n"
          ],
          "name": "stdout"
        }
      ]
    },
    {
      "cell_type": "code",
      "metadata": {
        "id": "GTeFlveOIxW_",
        "colab_type": "code",
        "colab": {
          "base_uri": "https://localhost:8080/",
          "height": 136
        },
        "outputId": "36582393-8cd3-43c3-cf02-1105219acb09"
      },
      "source": [
        "# Program to print all numbers in a range divisible by a given number.\n",
        "n = int(input(\"enter the divisor: \"))\n",
        "for i in range(1,20+1):\n",
        "  if  i%n ==0:\n",
        "    print(i)"
      ],
      "execution_count": 19,
      "outputs": [
        {
          "output_type": "stream",
          "text": [
            "enter the divisor: 3\n",
            "3\n",
            "6\n",
            "9\n",
            "12\n",
            "15\n",
            "18\n"
          ],
          "name": "stdout"
        }
      ]
    },
    {
      "cell_type": "code",
      "metadata": {
        "id": "FgnpfFW5KoUS",
        "colab_type": "code",
        "colab": {
          "base_uri": "https://localhost:8080/",
          "height": 68
        },
        "outputId": "1afeba33-44d4-4e5f-b358-b61098b25c46"
      },
      "source": [
        "# Program to read two numbers and print their quotient and remainder.\n",
        "a, b = map(int,input(\"Enter the numbers: \").split())\n",
        "\n",
        "print(f\"quotient = {a//b}\")\n",
        "print(f\"remainder = {a%b}\")"
      ],
      "execution_count": 26,
      "outputs": [
        {
          "output_type": "stream",
          "text": [
            "Enter the numbers: 31 4\n",
            "quotient = 7\n",
            "remainder = 3\n"
          ],
          "name": "stdout"
        }
      ]
    },
    {
      "cell_type": "code",
      "metadata": {
        "id": "9ZoWJ8WzL9gz",
        "colab_type": "code",
        "colab": {
          "base_uri": "https://localhost:8080/",
          "height": 136
        },
        "outputId": "2ffb3f7d-9cfe-44d9-b872-d97f107ba014"
      },
      "source": [
        "# Program to accept three distinct digits and print all possible combinations from the digits.\n",
        "d = list(map(int,input(\"Enter a three digit number: \").split()))\n",
        "if len(x)!=3:\n",
        "  print(\"Not a Valid number\")\n",
        "\n",
        "else: \n",
        "  for i in range(0,3):\n",
        "    for j in range(0,3):\n",
        "      for k in range(0,3):\n",
        "        if i!=j and j!=k and k!=i:\n",
        "          print(d[i],d[j],d[k])\n"
      ],
      "execution_count": 29,
      "outputs": [
        {
          "output_type": "stream",
          "text": [
            "Enter a three digit number: 3 4 5\n",
            "3 4 5\n",
            "3 5 4\n",
            "4 3 5\n",
            "4 5 3\n",
            "5 3 4\n",
            "5 4 3\n"
          ],
          "name": "stdout"
        }
      ]
    },
    {
      "cell_type": "code",
      "metadata": {
        "id": "svhxA6FNO2EJ",
        "colab_type": "code",
        "colab": {
          "base_uri": "https://localhost:8080/",
          "height": 187
        },
        "outputId": "8ee8ff1d-c72f-4d17-d75c-1edf3718eeba"
      },
      "source": [
        "# Program to print Odd numbers within a given range\n",
        "for i in range(1,20+1):\n",
        "  if i%2 !=0:\n",
        "    print(i)"
      ],
      "execution_count": 33,
      "outputs": [
        {
          "output_type": "stream",
          "text": [
            "1\n",
            "3\n",
            "5\n",
            "7\n",
            "9\n",
            "11\n",
            "13\n",
            "15\n",
            "17\n",
            "19\n"
          ],
          "name": "stdout"
        }
      ]
    },
    {
      "cell_type": "code",
      "metadata": {
        "id": "ehCjMXQRWyqu",
        "colab_type": "code",
        "colab": {
          "base_uri": "https://localhost:8080/",
          "height": 51
        },
        "outputId": "8d43096a-7814-4b7b-9d44-679dba3b3e87"
      },
      "source": [
        "# Program to find the sum of digits in a number.\n",
        "n = int(input(\"enter the number: \"))\n",
        "s = 0\n",
        "while n:\n",
        "  rem = n%10\n",
        "  s = s+rem\n",
        "  n = n//10\n",
        "print(f\"sum of digits is : {s} \")"
      ],
      "execution_count": 35,
      "outputs": [
        {
          "output_type": "stream",
          "text": [
            "enter the number: 4789\n",
            "sum of digits is : 28 \n"
          ],
          "name": "stdout"
        }
      ]
    },
    {
      "cell_type": "code",
      "metadata": {
        "id": "91-uFi4DXWKR",
        "colab_type": "code",
        "colab": {
          "base_uri": "https://localhost:8080/",
          "height": 51
        },
        "outputId": "dc85ffb3-aa52-4c49-aa4d-476bba83b102"
      },
      "source": [
        "# Program to find the smallest divisor of an integer.\n",
        "n = int(input(\"Enter any number: \"))\n",
        "for i in range(2,n+1):\n",
        "  if n%i==0:\n",
        "    print(i)\n",
        "    break"
      ],
      "execution_count": 39,
      "outputs": [
        {
          "output_type": "stream",
          "text": [
            "Enter any number: 33\n",
            "3\n"
          ],
          "name": "stdout"
        }
      ]
    },
    {
      "cell_type": "code",
      "metadata": {
        "id": "QIiXT0M4YFZN",
        "colab_type": "code",
        "colab": {
          "base_uri": "https://localhost:8080/",
          "height": 51
        },
        "outputId": "b791ce53-7d96-4f5e-f64c-09245d313497"
      },
      "source": [
        "# Program to count the numbers of digits\n",
        "n = int(input(\"enter the number: \"))\n",
        "count = 0\n",
        "while n:\n",
        "  count = count+1\n",
        "  n = n//10\n",
        "print(f\"The number of digits in number is: {count}\")\n"
      ],
      "execution_count": 43,
      "outputs": [
        {
          "output_type": "stream",
          "text": [
            "enter the number: 47859\n",
            "The number of digits in number is: 5\n"
          ],
          "name": "stdout"
        }
      ]
    },
    {
      "cell_type": "code",
      "metadata": {
        "id": "ByHEwda9cPlf",
        "colab_type": "code",
        "colab": {
          "base_uri": "https://localhost:8080/",
          "height": 68
        },
        "outputId": "bc10c6ea-236d-4841-c47b-e178e5b9a032"
      },
      "source": [
        "# Program to check whether a given number is a palindrome.\n",
        "n = int(input(\"enter the number: \"))\n",
        "temp = n\n",
        "s = 0\n",
        "while n:\n",
        "  rem = n%10\n",
        "  s = s*10 +rem\n",
        "  n = n//10\n",
        "print(s,temp)\n",
        "if int(s) == int(temp):\n",
        "  print(\"the number is palindrome\")\n",
        "else:\n",
        "  print(\"The number is not a palindrome\")\n"
      ],
      "execution_count": 48,
      "outputs": [
        {
          "output_type": "stream",
          "text": [
            "enter the number: 12321\n",
            "12321 12321\n",
            "the number is palindrome\n"
          ],
          "name": "stdout"
        }
      ]
    },
    {
      "cell_type": "code",
      "metadata": {
        "id": "zv7UTgzydkCM",
        "colab_type": "code",
        "colab": {
          "base_uri": "https://localhost:8080/",
          "height": 238
        },
        "outputId": "965ae5a7-0966-45a5-b89b-b49be1dafd6b"
      },
      "source": [
        "# Program to Print all Integers that Aren’t Divisible by Either 2 or 3 and Lie between 1 and 20.\n",
        "for i in range(1,20+1):\n",
        "  if i%2==0 or i%3==0:\n",
        "    print(i)"
      ],
      "execution_count": 50,
      "outputs": [
        {
          "output_type": "stream",
          "text": [
            "2\n",
            "3\n",
            "4\n",
            "6\n",
            "8\n",
            "9\n",
            "10\n",
            "12\n",
            "14\n",
            "15\n",
            "16\n",
            "18\n",
            "20\n"
          ],
          "name": "stdout"
        }
      ]
    },
    {
      "cell_type": "code",
      "metadata": {
        "id": "C9WMuhvDem2m",
        "colab_type": "code",
        "colab": {
          "base_uri": "https://localhost:8080/",
          "height": 51
        },
        "outputId": "7402100b-cd38-41d9-cd66-c7cb992c2a14"
      },
      "source": [
        "# Program to Read a Number n And Print the Series “1+2+…..+n= “\n",
        "n = int(input(\"enter the number: \"))\n",
        "s = 0\n",
        "for i in range(1,n+1):\n",
        "  s = s+i\n",
        "\n",
        "print(s)\n"
      ],
      "execution_count": 51,
      "outputs": [
        {
          "output_type": "stream",
          "text": [
            "enter the number: 10\n",
            "55\n"
          ],
          "name": "stdout"
        }
      ]
    },
    {
      "cell_type": "code",
      "metadata": {
        "id": "oi18JUOpfm_Z",
        "colab_type": "code",
        "colab": {
          "base_uri": "https://localhost:8080/",
          "height": 102
        },
        "outputId": "cd68809d-daf3-44fd-d618-e96ca516c7dd"
      },
      "source": [
        "# Program to Read a Number n and Print the Natural Numbers Summation Pattern\n",
        "n=int(input(\"Enter a number: \"))\n",
        "for j in range(1,n+1):\n",
        "    a=[]\n",
        "    for i in range(1,j+1):\n",
        "        print(i,sep=\" \",end=\" \")\n",
        "        if(i<j):\n",
        "            print(\"+\",sep=\" \",end=\" \")\n",
        "        a.append(i)\n",
        "    print(\"=\",sum(a))\n",
        "print()"
      ],
      "execution_count": 58,
      "outputs": [
        {
          "output_type": "stream",
          "text": [
            "Enter a number: 3\n",
            "1 = 1\n",
            "1 + 2 = 3\n",
            "1 + 2 + 3 = 6\n",
            "\n"
          ],
          "name": "stdout"
        }
      ]
    },
    {
      "cell_type": "code",
      "metadata": {
        "id": "ULACjx9DgXfF",
        "colab_type": "code",
        "colab": {
          "base_uri": "https://localhost:8080/",
          "height": 85
        },
        "outputId": "6812a0a2-a4c3-494b-a2ca-1194a74915e9"
      },
      "source": [
        "n = int(input(\"Enter the size of matrix: \"))\n",
        "for i in range(0,n):\n",
        "  for j in range(0,n):\n",
        "    if i==j:\n",
        "      print(\"1\", sep=\" \", end = \" \")\n",
        "    else:\n",
        "      print(\"0\", sep=\" \", end = \" \")\n",
        "  print()  # for new line\n"
      ],
      "execution_count": 55,
      "outputs": [
        {
          "output_type": "stream",
          "text": [
            "Enter the size of matrix: 3\n",
            "1 0 0 \n",
            "0 1 0 \n",
            "0 0 1 \n"
          ],
          "name": "stdout"
        }
      ]
    },
    {
      "cell_type": "code",
      "metadata": {
        "id": "zwp1boNfhqH3",
        "colab_type": "code",
        "colab": {
          "base_uri": "https://localhost:8080/",
          "height": 102
        },
        "outputId": "1f981afb-5e34-42c9-c7e6-1ddf2b832253"
      },
      "source": [
        "# Program to Print an Inverted Star Pattern\n",
        "n =  int(input(\"enter the size of pattern(row no.)\"))\n",
        "for i in range(n,0,-1):\n",
        "  print((n-i) * \" \" + i * \"*\")\n",
        "\n"
      ],
      "execution_count": 59,
      "outputs": [
        {
          "output_type": "stream",
          "text": [
            "enter the size of pattern(row no.)4\n",
            "****\n",
            " ***\n",
            "  **\n",
            "   *\n"
          ],
          "name": "stdout"
        }
      ]
    },
    {
      "cell_type": "code",
      "metadata": {
        "id": "yuQJ--AAi07_",
        "colab_type": "code",
        "colab": {
          "base_uri": "https://localhost:8080/",
          "height": 51
        },
        "outputId": "8f3879fe-17df-4fb5-f367-0ba5b7418079"
      },
      "source": [
        "# Program to Read Print Prime Numbers in a Range using Sieve of Eratosthenes\n",
        "n=int(input(\"Enter upper limit of range: \"))\n",
        "sieve=set(range(2,n+1))\n",
        "while sieve:\n",
        "    prime=min(sieve)\n",
        "    print(prime,end=\"\\t\")\n",
        "    sieve-=set(range(prime,n+1,prime))\n",
        " \n",
        "print()"
      ],
      "execution_count": 60,
      "outputs": [
        {
          "output_type": "stream",
          "text": [
            "Enter upper limit of range: 10\n",
            "2\t3\t5\t7\t\n"
          ],
          "name": "stdout"
        }
      ]
    },
    {
      "cell_type": "code",
      "metadata": {
        "id": "Cr4Tw_CJkU1P",
        "colab_type": "code",
        "colab": {}
      },
      "source": [
        ""
      ],
      "execution_count": 0,
      "outputs": []
    }
  ]
}